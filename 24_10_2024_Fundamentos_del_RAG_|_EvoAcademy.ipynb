{
  "nbformat": 4,
  "nbformat_minor": 0,
  "metadata": {
    "colab": {
      "provenance": [],
      "include_colab_link": true
    },
    "kernelspec": {
      "name": "python3",
      "display_name": "Python 3"
    },
    "language_info": {
      "name": "python"
    }
  },
  "cells": [
    {
      "cell_type": "markdown",
      "metadata": {
        "id": "view-in-github",
        "colab_type": "text"
      },
      "source": [
        "<a href=\"https://colab.research.google.com/github/AngelMasterr/Machine-Learning-with-Python/blob/main/24_10_2024_Fundamentos_del_RAG_%7C_EvoAcademy.ipynb\" target=\"_parent\"><img src=\"https://colab.research.google.com/assets/colab-badge.svg\" alt=\"Open In Colab\"/></a>"
      ]
    },
    {
      "cell_type": "markdown",
      "source": [
        "![picture](https://drive.google.com/uc?id=1t85VSkuEnCm-X8egDjib0GMTGZT0LM3c)\n",
        "\n",
        "# Fundamentos del Retrieval-Augmented Generation (RAG)\n",
        "Preparado por [Sebastián Cisterna](https://www.linkedin.com/in/scisterna/)"
      ],
      "metadata": {
        "id": "j6kwBtOrY1Gw"
      }
    },
    {
      "cell_type": "markdown",
      "source": [
        "# ¿Qué es el RAG?\n",
        "RAG o también Retrieval-augmented Generation es una técnica que combina la recuperación de información (retrieval) con la generación de texto.\n",
        "\n",
        "Este enfoque permite a los modelos de lenguaje aprovechar una base de datos externa de textos para complementar y enriquecer sus respuestas, mejorando la relevancia y exactitud de la información generada.\n",
        "\n",
        "Lo que veremos en este tutorial se resume en el siguiente flujo\n",
        "\n",
        "![picture](https://drive.google.com/uc?id=1ACV-UtacZStN5ItO0i0-mwh6N7kxqFMs)"
      ],
      "metadata": {
        "id": "SgxQRUR8ZYvE"
      }
    },
    {
      "cell_type": "markdown",
      "source": [
        "## Preparando el ambiente\n",
        "Instalamos las librerías y configuramos nuestra API Key"
      ],
      "metadata": {
        "id": "kvNANZ0CfjTx"
      }
    },
    {
      "cell_type": "code",
      "source": [
        "!pip install -U -q langchain langchain-openai"
      ],
      "metadata": {
        "id": "Wt8iTYyefs7F",
        "colab": {
          "base_uri": "https://localhost:8080/"
        },
        "outputId": "f669b210-27c3-4667-fd5e-f50ca531ab88"
      },
      "execution_count": 1,
      "outputs": [
        {
          "output_type": "stream",
          "name": "stdout",
          "text": [
            "\u001b[2K     \u001b[90m━━━━━━━━━━━━━━━━━━━━━━━━━━━━━━━━━━━━━━━━\u001b[0m \u001b[32m50.6/50.6 kB\u001b[0m \u001b[31m519.5 kB/s\u001b[0m eta \u001b[36m0:00:00\u001b[0m\n",
            "\u001b[2K   \u001b[90m━━━━━━━━━━━━━━━━━━━━━━━━━━━━━━━━━━━━━━━━\u001b[0m \u001b[32m1.0/1.0 MB\u001b[0m \u001b[31m15.7 MB/s\u001b[0m eta \u001b[36m0:00:00\u001b[0m\n",
            "\u001b[2K   \u001b[90m━━━━━━━━━━━━━━━━━━━━━━━━━━━━━━━━━━━━━━━━\u001b[0m \u001b[32m49.9/49.9 kB\u001b[0m \u001b[31m2.5 MB/s\u001b[0m eta \u001b[36m0:00:00\u001b[0m\n",
            "\u001b[2K   \u001b[90m━━━━━━━━━━━━━━━━━━━━━━━━━━━━━━━━━━━━━━━━\u001b[0m \u001b[32m407.7/407.7 kB\u001b[0m \u001b[31m13.5 MB/s\u001b[0m eta \u001b[36m0:00:00\u001b[0m\n",
            "\u001b[2K   \u001b[90m━━━━━━━━━━━━━━━━━━━━━━━━━━━━━━━━━━━━━━━━\u001b[0m \u001b[32m296.9/296.9 kB\u001b[0m \u001b[31m9.0 MB/s\u001b[0m eta \u001b[36m0:00:00\u001b[0m\n",
            "\u001b[2K   \u001b[90m━━━━━━━━━━━━━━━━━━━━━━━━━━━━━━━━━━━━━━━━\u001b[0m \u001b[32m386.9/386.9 kB\u001b[0m \u001b[31m15.8 MB/s\u001b[0m eta \u001b[36m0:00:00\u001b[0m\n",
            "\u001b[2K   \u001b[90m━━━━━━━━━━━━━━━━━━━━━━━━━━━━━━━━━━━━━━━━\u001b[0m \u001b[32m1.2/1.2 MB\u001b[0m \u001b[31m18.5 MB/s\u001b[0m eta \u001b[36m0:00:00\u001b[0m\n",
            "\u001b[2K   \u001b[90m━━━━━━━━━━━━━━━━━━━━━━━━━━━━━━━━━━━━━━━━\u001b[0m \u001b[32m76.4/76.4 kB\u001b[0m \u001b[31m4.0 MB/s\u001b[0m eta \u001b[36m0:00:00\u001b[0m\n",
            "\u001b[2K   \u001b[90m━━━━━━━━━━━━━━━━━━━━━━━━━━━━━━━━━━━━━━━━\u001b[0m \u001b[32m78.0/78.0 kB\u001b[0m \u001b[31m2.4 MB/s\u001b[0m eta \u001b[36m0:00:00\u001b[0m\n",
            "\u001b[2K   \u001b[90m━━━━━━━━━━━━━━━━━━━━━━━━━━━━━━━━━━━━━━━━\u001b[0m \u001b[32m325.2/325.2 kB\u001b[0m \u001b[31m6.1 MB/s\u001b[0m eta \u001b[36m0:00:00\u001b[0m\n",
            "\u001b[2K   \u001b[90m━━━━━━━━━━━━━━━━━━━━━━━━━━━━━━━━━━━━━━━━\u001b[0m \u001b[32m144.5/144.5 kB\u001b[0m \u001b[31m8.0 MB/s\u001b[0m eta \u001b[36m0:00:00\u001b[0m\n",
            "\u001b[2K   \u001b[90m━━━━━━━━━━━━━━━━━━━━━━━━━━━━━━━━━━━━━━━━\u001b[0m \u001b[32m54.5/54.5 kB\u001b[0m \u001b[31m2.0 MB/s\u001b[0m eta \u001b[36m0:00:00\u001b[0m\n",
            "\u001b[2K   \u001b[90m━━━━━━━━━━━━━━━━━━━━━━━━━━━━━━━━━━━━━━━━\u001b[0m \u001b[32m58.3/58.3 kB\u001b[0m \u001b[31m2.2 MB/s\u001b[0m eta \u001b[36m0:00:00\u001b[0m\n",
            "\u001b[?25h"
          ]
        }
      ]
    },
    {
      "cell_type": "code",
      "source": [
        "import numpy as np\n",
        "import pandas as pd\n",
        "import os\n",
        "\n",
        "from langchain_core.output_parsers import StrOutputParser\n",
        "\n",
        "# Configuracion splitter\n",
        "from langchain_text_splitters import RecursiveCharacterTextSplitter\n",
        "\n",
        "# Configuracion LLM - GPT\n",
        "from langchain_openai import ChatOpenAI\n",
        "\n",
        "# Para obtener la API desde Secrets en Google Colab. Si usas otro entorno debes adaptar esto\n",
        "from google.colab import userdata\n",
        "OPENAI_API_KEY = userdata.get('OPENAI_API_KEY')\n",
        "os.environ[\"OPENAI_API_KEY\"] = OPENAI_API_KEY\n",
        "\n",
        "llm = ChatOpenAI(model=\"gpt-4o-mini\")"
      ],
      "metadata": {
        "id": "GxTQ0FqRfkWg",
        "colab": {
          "base_uri": "https://localhost:8080/",
          "height": 332
        },
        "outputId": "bc557524-97f6-482b-85b2-7789e50bb932"
      },
      "execution_count": 2,
      "outputs": [
        {
          "output_type": "error",
          "ename": "SecretNotFoundError",
          "evalue": "Secret OPENAI_API_KEY does not exist.",
          "traceback": [
            "\u001b[0;31m---------------------------------------------------------------------------\u001b[0m",
            "\u001b[0;31mSecretNotFoundError\u001b[0m                       Traceback (most recent call last)",
            "\u001b[0;32m<ipython-input-2-7af57dac7c00>\u001b[0m in \u001b[0;36m<cell line: 15>\u001b[0;34m()\u001b[0m\n\u001b[1;32m     13\u001b[0m \u001b[0;31m# Para obtener la API desde Secrets en Google Colab. Si usas otro entorno debes adaptar esto\u001b[0m\u001b[0;34m\u001b[0m\u001b[0;34m\u001b[0m\u001b[0m\n\u001b[1;32m     14\u001b[0m \u001b[0;32mfrom\u001b[0m \u001b[0mgoogle\u001b[0m\u001b[0;34m.\u001b[0m\u001b[0mcolab\u001b[0m \u001b[0;32mimport\u001b[0m \u001b[0muserdata\u001b[0m\u001b[0;34m\u001b[0m\u001b[0;34m\u001b[0m\u001b[0m\n\u001b[0;32m---> 15\u001b[0;31m \u001b[0mOPENAI_API_KEY\u001b[0m \u001b[0;34m=\u001b[0m \u001b[0muserdata\u001b[0m\u001b[0;34m.\u001b[0m\u001b[0mget\u001b[0m\u001b[0;34m(\u001b[0m\u001b[0;34m'OPENAI_API_KEY'\u001b[0m\u001b[0;34m)\u001b[0m\u001b[0;34m\u001b[0m\u001b[0;34m\u001b[0m\u001b[0m\n\u001b[0m\u001b[1;32m     16\u001b[0m \u001b[0mos\u001b[0m\u001b[0;34m.\u001b[0m\u001b[0menviron\u001b[0m\u001b[0;34m[\u001b[0m\u001b[0;34m\"OPENAI_API_KEY\"\u001b[0m\u001b[0;34m]\u001b[0m \u001b[0;34m=\u001b[0m \u001b[0mOPENAI_API_KEY\u001b[0m\u001b[0;34m\u001b[0m\u001b[0;34m\u001b[0m\u001b[0m\n\u001b[1;32m     17\u001b[0m \u001b[0;34m\u001b[0m\u001b[0m\n",
            "\u001b[0;32m/usr/local/lib/python3.10/dist-packages/google/colab/userdata.py\u001b[0m in \u001b[0;36mget\u001b[0;34m(key)\u001b[0m\n\u001b[1;32m     66\u001b[0m     \u001b[0;32mraise\u001b[0m \u001b[0mTimeoutException\u001b[0m\u001b[0;34m(\u001b[0m\u001b[0mkey\u001b[0m\u001b[0;34m)\u001b[0m\u001b[0;34m\u001b[0m\u001b[0;34m\u001b[0m\u001b[0m\n\u001b[1;32m     67\u001b[0m   \u001b[0;32mif\u001b[0m \u001b[0;32mnot\u001b[0m \u001b[0mresp\u001b[0m\u001b[0;34m.\u001b[0m\u001b[0mget\u001b[0m\u001b[0;34m(\u001b[0m\u001b[0;34m'exists'\u001b[0m\u001b[0;34m,\u001b[0m \u001b[0;32mFalse\u001b[0m\u001b[0;34m)\u001b[0m\u001b[0;34m:\u001b[0m\u001b[0;34m\u001b[0m\u001b[0;34m\u001b[0m\u001b[0m\n\u001b[0;32m---> 68\u001b[0;31m     \u001b[0;32mraise\u001b[0m \u001b[0mSecretNotFoundError\u001b[0m\u001b[0;34m(\u001b[0m\u001b[0mkey\u001b[0m\u001b[0;34m)\u001b[0m\u001b[0;34m\u001b[0m\u001b[0;34m\u001b[0m\u001b[0m\n\u001b[0m\u001b[1;32m     69\u001b[0m   \u001b[0;32mif\u001b[0m \u001b[0;32mnot\u001b[0m \u001b[0mresp\u001b[0m\u001b[0;34m.\u001b[0m\u001b[0mget\u001b[0m\u001b[0;34m(\u001b[0m\u001b[0;34m'access'\u001b[0m\u001b[0;34m,\u001b[0m \u001b[0;32mFalse\u001b[0m\u001b[0;34m)\u001b[0m\u001b[0;34m:\u001b[0m\u001b[0;34m\u001b[0m\u001b[0;34m\u001b[0m\u001b[0m\n\u001b[1;32m     70\u001b[0m     \u001b[0;32mraise\u001b[0m \u001b[0mNotebookAccessError\u001b[0m\u001b[0;34m(\u001b[0m\u001b[0mkey\u001b[0m\u001b[0;34m)\u001b[0m\u001b[0;34m\u001b[0m\u001b[0;34m\u001b[0m\u001b[0m\n",
            "\u001b[0;31mSecretNotFoundError\u001b[0m: Secret OPENAI_API_KEY does not exist."
          ]
        }
      ]
    },
    {
      "cell_type": "markdown",
      "source": [
        "# Prueba sin RAG\n",
        "Llamamos el LLM sin ninguna modificación y vemos que alucina o bien desconoce esta información"
      ],
      "metadata": {
        "id": "o_lFAen6j4JJ"
      }
    },
    {
      "cell_type": "code",
      "source": [
        "llm.invoke(\"¿Donde se va a transmitir WWE RAW en 2025?\").content"
      ],
      "metadata": {
        "id": "tn3mbbeejP0_",
        "colab": {
          "base_uri": "https://localhost:8080/",
          "height": 141
        },
        "outputId": "b1266576-9eff-4553-a30f-e5a0df620748"
      },
      "execution_count": 3,
      "outputs": [
        {
          "output_type": "error",
          "ename": "NameError",
          "evalue": "name 'llm' is not defined",
          "traceback": [
            "\u001b[0;31m---------------------------------------------------------------------------\u001b[0m",
            "\u001b[0;31mNameError\u001b[0m                                 Traceback (most recent call last)",
            "\u001b[0;32m<ipython-input-3-ee8d0c464243>\u001b[0m in \u001b[0;36m<cell line: 1>\u001b[0;34m()\u001b[0m\n\u001b[0;32m----> 1\u001b[0;31m \u001b[0mllm\u001b[0m\u001b[0;34m.\u001b[0m\u001b[0minvoke\u001b[0m\u001b[0;34m(\u001b[0m\u001b[0;34m\"¿Donde se va a transmitir WWE RAW en 2025?\"\u001b[0m\u001b[0;34m)\u001b[0m\u001b[0;34m.\u001b[0m\u001b[0mcontent\u001b[0m\u001b[0;34m\u001b[0m\u001b[0;34m\u001b[0m\u001b[0m\n\u001b[0m",
            "\u001b[0;31mNameError\u001b[0m: name 'llm' is not defined"
          ]
        }
      ]
    },
    {
      "cell_type": "markdown",
      "source": [
        "# Configurando el RAG"
      ],
      "metadata": {
        "id": "lJWQaqGNk-E7"
      }
    },
    {
      "cell_type": "markdown",
      "source": [
        "## 0. Importando los documentos\n",
        "Normalmente esto sería más complejo, pero para entender los fundamentos vamos a implementar como un texto directo en la plataforma."
      ],
      "metadata": {
        "id": "IwAllD7flFO7"
      }
    },
    {
      "cell_type": "code",
      "source": [
        "# fuente: https://www.infobae.com/que-puedo-ver/2024/01/23/wwe-en-netflix-raw-y-mas-eventos-llegaran-desde-2025/\n",
        "noticia_1 = \"\"\"\n",
        "Netflix es la nueva casa de la WWE: “Raw” y más eventos especiales se podrán ver en la plataforma\n",
        "\n",
        "El famoso programa de lucha libre llegará al streaming. WrestleMania, SummerSlam y Royal Rumble también se sumarán el próximo año.\n",
        "\n",
        "Netflix ha anunciado un histórico acuerdo con la empresa de entretenimiento deportivo WWE. A partir de 2025, la “N” roja será el hogar exclusivo del popular programa Monday Night Raw en Estados Unidos, Canadá, Reino Unido y Latinoamérica.\n",
        "Este acuerdo, que tiene planes de expandirse a más territorios alrededor de 190 países, representa un cambio trascendental para Raw, ya que se traslada de la televisión tradicional a la plataforma de streaming por primera vez desde su lanzamiento en 1993.\n",
        "\n",
        "El acuerdo, con una duración de diez años y un valor que supera los 5 mil millones de dólares, también incluirá todos los programas y especiales de la WWE, como SmackDown y NXT, además de los eventos premium en vivo del calibre de WrestleMania, SummerSlam y Royal Rumble.\n",
        "El gigante del streaming también ofrecerá documentales galardonados de la marca, series originales y proyectos futuros a su audiencia internacional a partir del próximo año.\n",
        "\n",
        "El impacto de la WWE\n",
        "Actualmente, Raw es el programa número uno en la cadena USA Network, atrayendo a 17.5 millones de espectadores únicos a lo largo del año, y se mantiene como uno de los programas más exitosos en el demográfico publicitario de 18 a 49 años.\n",
        "Adicionalmente, WWE cuenta con más de mil millones de seguidores en sus plataformas de redes sociales.\n",
        "\n",
        "El programa Monday Night Raw es uno de los más icónicos del entretenimiento deportivo, acumulando 1600 episodios desde su debut. Combinando lo mejor del contenido guionizado con el entretenimiento en vivo, el show semanal ha impulsado las carreras de múltiples celebridades en el mundo de la lucha libre con el paso del tiempo, al punto de convertirse en un referente mundial.\n",
        "\"\"\"\n",
        "\n",
        "# fuente: https://www.emol.com/noticias/Economia/2023/09/28/1108504/luksin-renuncia-presidencia-quinenco-ccu.html\n",
        "noticia_2 = \"\"\"\n",
        "Andrónico Luksic renuncia a la presidencia de Quiñenco y a directorios de otras empresas.\n",
        "\n",
        "El empresario Andrónico Luksic anunció su renuncia a la presidencia de Quiñenco y de los directorios de otras compañías de las que forma parte. La renuncia se hará efectiva desde el 29 de septiembre. También dejará presidencias de Compañía Cervecerías Unidas (CCU) y LQ Inversiones Financieras (LQIF), las vicepresidencias de Banco de Chile y Compañía Sud Americana de Vapores (CSAV), y el directorio de Invexans.\n",
        "\n",
        "\"Tras un profundo proceso de reflexión he llegado a la convicción de que es momento de alejarme del día a día, de dar paso a otros liderazgos y de permitir que sea el gran equipo de profesionales que hemos construido a lo largo de los años, el que conduzca a nuestras empresas hacia el futuro\", sostuvo el empresario.\n",
        "\n",
        "En Quiñenco, Luksic recalcó haber podido \"profundizar la estrategia de diversificación internacional que nos trazamos, al punto que en 2022 más de 90% de la utilidad que obtuvimos provino del extranjero.\n",
        "\n",
        "También ha sido fundamental la creación, desde 2014, de áreas como relaciones laborales, desarrollo organizacional, asuntos corporativos y sustentabilidad, que incorporaron a nuestra matriz industrial y financiera variables propias de las nuevas exigencias que la sociedad y el mundo demandan de las empresas\".\n",
        "\n",
        "Por su parte, Francisco Pérez Mackenna, quien asumirá la presidencia de Quiñenco, señaló que \"la decisión que conocimos hoy es totalmente personal, y fue adoptada por él en forma muy responsable y reflexiva, buscando siempre un mejor futuro para las compañías\".\n",
        "\n",
        "De acuerdo a la determinación adoptada en cada uno de los respectivos directorios, los cambios a concretarse a contar del 29 de diciembre próximo son:\n",
        "- En el directorio de Quiñenco, asumirá como presidente Pablo Granifo Lavín, en tanto que Paola Luksic Fontbona, actual asesora, se incorporará como directora.\n",
        "- En Banco de Chile, Francisco Pérez Mackenna será el nuevo vicepresidente, y se sumará en calidad de director Patricio Jottar Nasrallah.\n",
        "- En CCU, el presidente será Francisco Pérez, y Óscar Hasbún Martínez se incorporará como director.\n",
        "- En LQIF, Francisco Pérez será el presidente, y el cargo de director será asumido por Rodrigo Hinzpeter Kirberg.\n",
        "- En Invexans, Vicente Mobarec Katunaric será el nuevo integrante del directorio.\n",
        "- Y en CSAV, Pablo Granifo se incorpora como director y vicepresidente de la compañía.\n",
        "\"\"\"\n",
        "\n",
        "noticia_3 = \"\"\"\n",
        "Siendo su segundo encuentro como inicialista, se esperaba que el cafetero sumara más minutos en el campo de juego,\n",
        "aprovechando su buen momento y la cantidad de comentarios en el que pedían que se le diera más oportunidades para demostrar su calidad.\n",
        "\n",
        "Sin embargo, ocurrió todo lo contrario en el partido de Aston Villa y Bologna,\n",
        "debido a que el técnico Unai Emery decidió sacar a Jhon Jader Durán de la cancha a los 65 minutos,\n",
        "para darle espacio a Ollie Watkins, que viene siendo inicialista habitual con los británicos.\n",
        "\n",
        "Todo se presentó a los 65 minutos, en el momento justo después de la anotación del colombiano,\n",
        "que luego de terminar de celebrar junto a sus compañeros el 2-0, la paleta de cambios mostró el número 9 del cafetero,\n",
        "lo que no cayó nada bien en el deportista y aficionados.\n",
        "\"\"\""
      ],
      "metadata": {
        "id": "2TjFrfBwlEBn"
      },
      "execution_count": 4,
      "outputs": []
    },
    {
      "cell_type": "code",
      "source": [
        "from langchain.docstore.document import Document\n",
        "\n",
        "doc_1 =  Document(noticia_1)\n",
        "doc_2 =  Document(noticia_2)\n",
        "doc_3 =  Document(noticia_3)\n",
        "docs =  [doc_1, doc_2, doc_3]"
      ],
      "metadata": {
        "id": "e48FdATYpM7c"
      },
      "execution_count": 5,
      "outputs": []
    },
    {
      "cell_type": "markdown",
      "source": [
        "## 1. Diviviendo los documentos en chunks\n",
        "Los documentos son divididos en pedacitos, o chunks, para que puedan ser correctamente procesados en este contexto."
      ],
      "metadata": {
        "id": "PBXWCjzNmRYm"
      }
    },
    {
      "cell_type": "code",
      "source": [
        "text_splitter = RecursiveCharacterTextSplitter(\n",
        "                  chunk_size=450,\n",
        "                  chunk_overlap=0)\n",
        "\n",
        "splits = text_splitter.split_documents(docs)\n",
        "\n",
        "for index, split in enumerate(splits):\n",
        "  print(f\"SPLIT {index + 1}\")\n",
        "  print(split.page_content)\n",
        "  print(\"--\")"
      ],
      "metadata": {
        "id": "XbbqG6Sqn3c9",
        "colab": {
          "base_uri": "https://localhost:8080/"
        },
        "outputId": "73dfd9e1-e7e8-4c62-a55d-31fa7ce2ef49"
      },
      "execution_count": 6,
      "outputs": [
        {
          "output_type": "stream",
          "name": "stdout",
          "text": [
            "SPLIT 1\n",
            "Netflix es la nueva casa de la WWE: “Raw” y más eventos especiales se podrán ver en la plataforma\n",
            "\n",
            "El famoso programa de lucha libre llegará al streaming. WrestleMania, SummerSlam y Royal Rumble también se sumarán el próximo año.\n",
            "--\n",
            "SPLIT 2\n",
            "Netflix ha anunciado un histórico acuerdo con la empresa de entretenimiento deportivo WWE. A partir de 2025, la “N” roja será el hogar exclusivo del popular programa Monday Night Raw en Estados Unidos, Canadá, Reino Unido y Latinoamérica.\n",
            "--\n",
            "SPLIT 3\n",
            "Este acuerdo, que tiene planes de expandirse a más territorios alrededor de 190 países, representa un cambio trascendental para Raw, ya que se traslada de la televisión tradicional a la plataforma de streaming por primera vez desde su lanzamiento en 1993.\n",
            "--\n",
            "SPLIT 4\n",
            "El acuerdo, con una duración de diez años y un valor que supera los 5 mil millones de dólares, también incluirá todos los programas y especiales de la WWE, como SmackDown y NXT, además de los eventos premium en vivo del calibre de WrestleMania, SummerSlam y Royal Rumble.\n",
            "El gigante del streaming también ofrecerá documentales galardonados de la marca, series originales y proyectos futuros a su audiencia internacional a partir del próximo año.\n",
            "--\n",
            "SPLIT 5\n",
            "El impacto de la WWE\n",
            "Actualmente, Raw es el programa número uno en la cadena USA Network, atrayendo a 17.5 millones de espectadores únicos a lo largo del año, y se mantiene como uno de los programas más exitosos en el demográfico publicitario de 18 a 49 años.\n",
            "Adicionalmente, WWE cuenta con más de mil millones de seguidores en sus plataformas de redes sociales.\n",
            "--\n",
            "SPLIT 6\n",
            "El programa Monday Night Raw es uno de los más icónicos del entretenimiento deportivo, acumulando 1600 episodios desde su debut. Combinando lo mejor del contenido guionizado con el entretenimiento en vivo, el show semanal ha impulsado las carreras de múltiples celebridades en el mundo de la lucha libre con el paso del tiempo, al punto de convertirse en un referente mundial.\n",
            "--\n",
            "SPLIT 7\n",
            "Andrónico Luksic renuncia a la presidencia de Quiñenco y a directorios de otras empresas.\n",
            "--\n",
            "SPLIT 8\n",
            "El empresario Andrónico Luksic anunció su renuncia a la presidencia de Quiñenco y de los directorios de otras compañías de las que forma parte. La renuncia se hará efectiva desde el 29 de septiembre. También dejará presidencias de Compañía Cervecerías Unidas (CCU) y LQ Inversiones Financieras (LQIF), las vicepresidencias de Banco de Chile y Compañía Sud Americana de Vapores (CSAV), y el directorio de Invexans.\n",
            "--\n",
            "SPLIT 9\n",
            "\"Tras un profundo proceso de reflexión he llegado a la convicción de que es momento de alejarme del día a día, de dar paso a otros liderazgos y de permitir que sea el gran equipo de profesionales que hemos construido a lo largo de los años, el que conduzca a nuestras empresas hacia el futuro\", sostuvo el empresario.\n",
            "--\n",
            "SPLIT 10\n",
            "En Quiñenco, Luksic recalcó haber podido \"profundizar la estrategia de diversificación internacional que nos trazamos, al punto que en 2022 más de 90% de la utilidad que obtuvimos provino del extranjero.\n",
            "--\n",
            "SPLIT 11\n",
            "También ha sido fundamental la creación, desde 2014, de áreas como relaciones laborales, desarrollo organizacional, asuntos corporativos y sustentabilidad, que incorporaron a nuestra matriz industrial y financiera variables propias de las nuevas exigencias que la sociedad y el mundo demandan de las empresas\".\n",
            "--\n",
            "SPLIT 12\n",
            "Por su parte, Francisco Pérez Mackenna, quien asumirá la presidencia de Quiñenco, señaló que \"la decisión que conocimos hoy es totalmente personal, y fue adoptada por él en forma muy responsable y reflexiva, buscando siempre un mejor futuro para las compañías\".\n",
            "--\n",
            "SPLIT 13\n",
            "De acuerdo a la determinación adoptada en cada uno de los respectivos directorios, los cambios a concretarse a contar del 29 de diciembre próximo son:\n",
            "- En el directorio de Quiñenco, asumirá como presidente Pablo Granifo Lavín, en tanto que Paola Luksic Fontbona, actual asesora, se incorporará como directora.\n",
            "- En Banco de Chile, Francisco Pérez Mackenna será el nuevo vicepresidente, y se sumará en calidad de director Patricio Jottar Nasrallah.\n",
            "--\n",
            "SPLIT 14\n",
            "- En CCU, el presidente será Francisco Pérez, y Óscar Hasbún Martínez se incorporará como director.\n",
            "- En LQIF, Francisco Pérez será el presidente, y el cargo de director será asumido por Rodrigo Hinzpeter Kirberg.\n",
            "- En Invexans, Vicente Mobarec Katunaric será el nuevo integrante del directorio.\n",
            "- Y en CSAV, Pablo Granifo se incorpora como director y vicepresidente de la compañía.\n",
            "--\n",
            "SPLIT 15\n",
            "Siendo su segundo encuentro como inicialista, se esperaba que el cafetero sumara más minutos en el campo de juego,\n",
            "aprovechando su buen momento y la cantidad de comentarios en el que pedían que se le diera más oportunidades para demostrar su calidad.\n",
            "--\n",
            "SPLIT 16\n",
            "Sin embargo, ocurrió todo lo contrario en el partido de Aston Villa y Bologna,\n",
            "debido a que el técnico Unai Emery decidió sacar a Jhon Jader Durán de la cancha a los 65 minutos,\n",
            "para darle espacio a Ollie Watkins, que viene siendo inicialista habitual con los británicos.\n",
            "--\n",
            "SPLIT 17\n",
            "Todo se presentó a los 65 minutos, en el momento justo después de la anotación del colombiano,\n",
            "que luego de terminar de celebrar junto a sus compañeros el 2-0, la paleta de cambios mostró el número 9 del cafetero,\n",
            "lo que no cayó nada bien en el deportista y aficionados.\n",
            "--\n"
          ]
        }
      ]
    },
    {
      "cell_type": "markdown",
      "source": [
        "## 2. Guardando los chunks\n",
        "Para los efectos de este ejercicio básico, almacenaremos los datos en un DataFrame. Una estructura muy similar a un Excel.\n",
        "\n",
        "Durante el curso veremos que para aplicaciones en producción, esto se almacena en una base de datos vectorial."
      ],
      "metadata": {
        "id": "qOb5BWOeq_Pv"
      }
    },
    {
      "cell_type": "code",
      "source": [
        "# Creamos un dataFrame con los textos\n",
        "\n",
        "chunks = []\n",
        "for split in splits:\n",
        "  chunks.append(split.page_content)\n",
        "\n",
        "df = pd.DataFrame(chunks, columns = ['Text'])\n",
        "\n",
        "# visualiza el dataframe\n",
        "df"
      ],
      "metadata": {
        "id": "hIEJkgWrr4KM",
        "colab": {
          "base_uri": "https://localhost:8080/",
          "height": 582
        },
        "outputId": "e20608d3-35f6-4c63-e950-4bdc9580418c"
      },
      "execution_count": 7,
      "outputs": [
        {
          "output_type": "execute_result",
          "data": {
            "text/plain": [
              "                                                 Text\n",
              "0   Netflix es la nueva casa de la WWE: “Raw” y má...\n",
              "1   Netflix ha anunciado un histórico acuerdo con ...\n",
              "2   Este acuerdo, que tiene planes de expandirse a...\n",
              "3   El acuerdo, con una duración de diez años y un...\n",
              "4   El impacto de la WWE\\nActualmente, Raw es el p...\n",
              "5   El programa Monday Night Raw es uno de los más...\n",
              "6   Andrónico Luksic renuncia a la presidencia de ...\n",
              "7   El empresario Andrónico Luksic anunció su renu...\n",
              "8   \"Tras un profundo proceso de reflexión he lleg...\n",
              "9   En Quiñenco, Luksic recalcó haber podido \"prof...\n",
              "10  También ha sido fundamental la creación, desde...\n",
              "11  Por su parte, Francisco Pérez Mackenna, quien ...\n",
              "12  De acuerdo a la determinación adoptada en cada...\n",
              "13  - En CCU, el presidente será Francisco Pérez, ...\n",
              "14  Siendo su segundo encuentro como inicialista, ...\n",
              "15  Sin embargo, ocurrió todo lo contrario en el p...\n",
              "16  Todo se presentó a los 65 minutos, en el momen..."
            ],
            "text/html": [
              "\n",
              "  <div id=\"df-781c5641-d96a-4401-b214-12674ec81d20\" class=\"colab-df-container\">\n",
              "    <div>\n",
              "<style scoped>\n",
              "    .dataframe tbody tr th:only-of-type {\n",
              "        vertical-align: middle;\n",
              "    }\n",
              "\n",
              "    .dataframe tbody tr th {\n",
              "        vertical-align: top;\n",
              "    }\n",
              "\n",
              "    .dataframe thead th {\n",
              "        text-align: right;\n",
              "    }\n",
              "</style>\n",
              "<table border=\"1\" class=\"dataframe\">\n",
              "  <thead>\n",
              "    <tr style=\"text-align: right;\">\n",
              "      <th></th>\n",
              "      <th>Text</th>\n",
              "    </tr>\n",
              "  </thead>\n",
              "  <tbody>\n",
              "    <tr>\n",
              "      <th>0</th>\n",
              "      <td>Netflix es la nueva casa de la WWE: “Raw” y má...</td>\n",
              "    </tr>\n",
              "    <tr>\n",
              "      <th>1</th>\n",
              "      <td>Netflix ha anunciado un histórico acuerdo con ...</td>\n",
              "    </tr>\n",
              "    <tr>\n",
              "      <th>2</th>\n",
              "      <td>Este acuerdo, que tiene planes de expandirse a...</td>\n",
              "    </tr>\n",
              "    <tr>\n",
              "      <th>3</th>\n",
              "      <td>El acuerdo, con una duración de diez años y un...</td>\n",
              "    </tr>\n",
              "    <tr>\n",
              "      <th>4</th>\n",
              "      <td>El impacto de la WWE\\nActualmente, Raw es el p...</td>\n",
              "    </tr>\n",
              "    <tr>\n",
              "      <th>5</th>\n",
              "      <td>El programa Monday Night Raw es uno de los más...</td>\n",
              "    </tr>\n",
              "    <tr>\n",
              "      <th>6</th>\n",
              "      <td>Andrónico Luksic renuncia a la presidencia de ...</td>\n",
              "    </tr>\n",
              "    <tr>\n",
              "      <th>7</th>\n",
              "      <td>El empresario Andrónico Luksic anunció su renu...</td>\n",
              "    </tr>\n",
              "    <tr>\n",
              "      <th>8</th>\n",
              "      <td>\"Tras un profundo proceso de reflexión he lleg...</td>\n",
              "    </tr>\n",
              "    <tr>\n",
              "      <th>9</th>\n",
              "      <td>En Quiñenco, Luksic recalcó haber podido \"prof...</td>\n",
              "    </tr>\n",
              "    <tr>\n",
              "      <th>10</th>\n",
              "      <td>También ha sido fundamental la creación, desde...</td>\n",
              "    </tr>\n",
              "    <tr>\n",
              "      <th>11</th>\n",
              "      <td>Por su parte, Francisco Pérez Mackenna, quien ...</td>\n",
              "    </tr>\n",
              "    <tr>\n",
              "      <th>12</th>\n",
              "      <td>De acuerdo a la determinación adoptada en cada...</td>\n",
              "    </tr>\n",
              "    <tr>\n",
              "      <th>13</th>\n",
              "      <td>- En CCU, el presidente será Francisco Pérez, ...</td>\n",
              "    </tr>\n",
              "    <tr>\n",
              "      <th>14</th>\n",
              "      <td>Siendo su segundo encuentro como inicialista, ...</td>\n",
              "    </tr>\n",
              "    <tr>\n",
              "      <th>15</th>\n",
              "      <td>Sin embargo, ocurrió todo lo contrario en el p...</td>\n",
              "    </tr>\n",
              "    <tr>\n",
              "      <th>16</th>\n",
              "      <td>Todo se presentó a los 65 minutos, en el momen...</td>\n",
              "    </tr>\n",
              "  </tbody>\n",
              "</table>\n",
              "</div>\n",
              "    <div class=\"colab-df-buttons\">\n",
              "\n",
              "  <div class=\"colab-df-container\">\n",
              "    <button class=\"colab-df-convert\" onclick=\"convertToInteractive('df-781c5641-d96a-4401-b214-12674ec81d20')\"\n",
              "            title=\"Convert this dataframe to an interactive table.\"\n",
              "            style=\"display:none;\">\n",
              "\n",
              "  <svg xmlns=\"http://www.w3.org/2000/svg\" height=\"24px\" viewBox=\"0 -960 960 960\">\n",
              "    <path d=\"M120-120v-720h720v720H120Zm60-500h600v-160H180v160Zm220 220h160v-160H400v160Zm0 220h160v-160H400v160ZM180-400h160v-160H180v160Zm440 0h160v-160H620v160ZM180-180h160v-160H180v160Zm440 0h160v-160H620v160Z\"/>\n",
              "  </svg>\n",
              "    </button>\n",
              "\n",
              "  <style>\n",
              "    .colab-df-container {\n",
              "      display:flex;\n",
              "      gap: 12px;\n",
              "    }\n",
              "\n",
              "    .colab-df-convert {\n",
              "      background-color: #E8F0FE;\n",
              "      border: none;\n",
              "      border-radius: 50%;\n",
              "      cursor: pointer;\n",
              "      display: none;\n",
              "      fill: #1967D2;\n",
              "      height: 32px;\n",
              "      padding: 0 0 0 0;\n",
              "      width: 32px;\n",
              "    }\n",
              "\n",
              "    .colab-df-convert:hover {\n",
              "      background-color: #E2EBFA;\n",
              "      box-shadow: 0px 1px 2px rgba(60, 64, 67, 0.3), 0px 1px 3px 1px rgba(60, 64, 67, 0.15);\n",
              "      fill: #174EA6;\n",
              "    }\n",
              "\n",
              "    .colab-df-buttons div {\n",
              "      margin-bottom: 4px;\n",
              "    }\n",
              "\n",
              "    [theme=dark] .colab-df-convert {\n",
              "      background-color: #3B4455;\n",
              "      fill: #D2E3FC;\n",
              "    }\n",
              "\n",
              "    [theme=dark] .colab-df-convert:hover {\n",
              "      background-color: #434B5C;\n",
              "      box-shadow: 0px 1px 3px 1px rgba(0, 0, 0, 0.15);\n",
              "      filter: drop-shadow(0px 1px 2px rgba(0, 0, 0, 0.3));\n",
              "      fill: #FFFFFF;\n",
              "    }\n",
              "  </style>\n",
              "\n",
              "    <script>\n",
              "      const buttonEl =\n",
              "        document.querySelector('#df-781c5641-d96a-4401-b214-12674ec81d20 button.colab-df-convert');\n",
              "      buttonEl.style.display =\n",
              "        google.colab.kernel.accessAllowed ? 'block' : 'none';\n",
              "\n",
              "      async function convertToInteractive(key) {\n",
              "        const element = document.querySelector('#df-781c5641-d96a-4401-b214-12674ec81d20');\n",
              "        const dataTable =\n",
              "          await google.colab.kernel.invokeFunction('convertToInteractive',\n",
              "                                                    [key], {});\n",
              "        if (!dataTable) return;\n",
              "\n",
              "        const docLinkHtml = 'Like what you see? Visit the ' +\n",
              "          '<a target=\"_blank\" href=https://colab.research.google.com/notebooks/data_table.ipynb>data table notebook</a>'\n",
              "          + ' to learn more about interactive tables.';\n",
              "        element.innerHTML = '';\n",
              "        dataTable['output_type'] = 'display_data';\n",
              "        await google.colab.output.renderOutput(dataTable, element);\n",
              "        const docLink = document.createElement('div');\n",
              "        docLink.innerHTML = docLinkHtml;\n",
              "        element.appendChild(docLink);\n",
              "      }\n",
              "    </script>\n",
              "  </div>\n",
              "\n",
              "\n",
              "<div id=\"df-5f0833ea-eed5-4cc7-b1d8-018e2f48755e\">\n",
              "  <button class=\"colab-df-quickchart\" onclick=\"quickchart('df-5f0833ea-eed5-4cc7-b1d8-018e2f48755e')\"\n",
              "            title=\"Suggest charts\"\n",
              "            style=\"display:none;\">\n",
              "\n",
              "<svg xmlns=\"http://www.w3.org/2000/svg\" height=\"24px\"viewBox=\"0 0 24 24\"\n",
              "     width=\"24px\">\n",
              "    <g>\n",
              "        <path d=\"M19 3H5c-1.1 0-2 .9-2 2v14c0 1.1.9 2 2 2h14c1.1 0 2-.9 2-2V5c0-1.1-.9-2-2-2zM9 17H7v-7h2v7zm4 0h-2V7h2v10zm4 0h-2v-4h2v4z\"/>\n",
              "    </g>\n",
              "</svg>\n",
              "  </button>\n",
              "\n",
              "<style>\n",
              "  .colab-df-quickchart {\n",
              "      --bg-color: #E8F0FE;\n",
              "      --fill-color: #1967D2;\n",
              "      --hover-bg-color: #E2EBFA;\n",
              "      --hover-fill-color: #174EA6;\n",
              "      --disabled-fill-color: #AAA;\n",
              "      --disabled-bg-color: #DDD;\n",
              "  }\n",
              "\n",
              "  [theme=dark] .colab-df-quickchart {\n",
              "      --bg-color: #3B4455;\n",
              "      --fill-color: #D2E3FC;\n",
              "      --hover-bg-color: #434B5C;\n",
              "      --hover-fill-color: #FFFFFF;\n",
              "      --disabled-bg-color: #3B4455;\n",
              "      --disabled-fill-color: #666;\n",
              "  }\n",
              "\n",
              "  .colab-df-quickchart {\n",
              "    background-color: var(--bg-color);\n",
              "    border: none;\n",
              "    border-radius: 50%;\n",
              "    cursor: pointer;\n",
              "    display: none;\n",
              "    fill: var(--fill-color);\n",
              "    height: 32px;\n",
              "    padding: 0;\n",
              "    width: 32px;\n",
              "  }\n",
              "\n",
              "  .colab-df-quickchart:hover {\n",
              "    background-color: var(--hover-bg-color);\n",
              "    box-shadow: 0 1px 2px rgba(60, 64, 67, 0.3), 0 1px 3px 1px rgba(60, 64, 67, 0.15);\n",
              "    fill: var(--button-hover-fill-color);\n",
              "  }\n",
              "\n",
              "  .colab-df-quickchart-complete:disabled,\n",
              "  .colab-df-quickchart-complete:disabled:hover {\n",
              "    background-color: var(--disabled-bg-color);\n",
              "    fill: var(--disabled-fill-color);\n",
              "    box-shadow: none;\n",
              "  }\n",
              "\n",
              "  .colab-df-spinner {\n",
              "    border: 2px solid var(--fill-color);\n",
              "    border-color: transparent;\n",
              "    border-bottom-color: var(--fill-color);\n",
              "    animation:\n",
              "      spin 1s steps(1) infinite;\n",
              "  }\n",
              "\n",
              "  @keyframes spin {\n",
              "    0% {\n",
              "      border-color: transparent;\n",
              "      border-bottom-color: var(--fill-color);\n",
              "      border-left-color: var(--fill-color);\n",
              "    }\n",
              "    20% {\n",
              "      border-color: transparent;\n",
              "      border-left-color: var(--fill-color);\n",
              "      border-top-color: var(--fill-color);\n",
              "    }\n",
              "    30% {\n",
              "      border-color: transparent;\n",
              "      border-left-color: var(--fill-color);\n",
              "      border-top-color: var(--fill-color);\n",
              "      border-right-color: var(--fill-color);\n",
              "    }\n",
              "    40% {\n",
              "      border-color: transparent;\n",
              "      border-right-color: var(--fill-color);\n",
              "      border-top-color: var(--fill-color);\n",
              "    }\n",
              "    60% {\n",
              "      border-color: transparent;\n",
              "      border-right-color: var(--fill-color);\n",
              "    }\n",
              "    80% {\n",
              "      border-color: transparent;\n",
              "      border-right-color: var(--fill-color);\n",
              "      border-bottom-color: var(--fill-color);\n",
              "    }\n",
              "    90% {\n",
              "      border-color: transparent;\n",
              "      border-bottom-color: var(--fill-color);\n",
              "    }\n",
              "  }\n",
              "</style>\n",
              "\n",
              "  <script>\n",
              "    async function quickchart(key) {\n",
              "      const quickchartButtonEl =\n",
              "        document.querySelector('#' + key + ' button');\n",
              "      quickchartButtonEl.disabled = true;  // To prevent multiple clicks.\n",
              "      quickchartButtonEl.classList.add('colab-df-spinner');\n",
              "      try {\n",
              "        const charts = await google.colab.kernel.invokeFunction(\n",
              "            'suggestCharts', [key], {});\n",
              "      } catch (error) {\n",
              "        console.error('Error during call to suggestCharts:', error);\n",
              "      }\n",
              "      quickchartButtonEl.classList.remove('colab-df-spinner');\n",
              "      quickchartButtonEl.classList.add('colab-df-quickchart-complete');\n",
              "    }\n",
              "    (() => {\n",
              "      let quickchartButtonEl =\n",
              "        document.querySelector('#df-5f0833ea-eed5-4cc7-b1d8-018e2f48755e button');\n",
              "      quickchartButtonEl.style.display =\n",
              "        google.colab.kernel.accessAllowed ? 'block' : 'none';\n",
              "    })();\n",
              "  </script>\n",
              "</div>\n",
              "\n",
              "  <div id=\"id_fbba1e96-570e-441d-a4a0-48d164c20231\">\n",
              "    <style>\n",
              "      .colab-df-generate {\n",
              "        background-color: #E8F0FE;\n",
              "        border: none;\n",
              "        border-radius: 50%;\n",
              "        cursor: pointer;\n",
              "        display: none;\n",
              "        fill: #1967D2;\n",
              "        height: 32px;\n",
              "        padding: 0 0 0 0;\n",
              "        width: 32px;\n",
              "      }\n",
              "\n",
              "      .colab-df-generate:hover {\n",
              "        background-color: #E2EBFA;\n",
              "        box-shadow: 0px 1px 2px rgba(60, 64, 67, 0.3), 0px 1px 3px 1px rgba(60, 64, 67, 0.15);\n",
              "        fill: #174EA6;\n",
              "      }\n",
              "\n",
              "      [theme=dark] .colab-df-generate {\n",
              "        background-color: #3B4455;\n",
              "        fill: #D2E3FC;\n",
              "      }\n",
              "\n",
              "      [theme=dark] .colab-df-generate:hover {\n",
              "        background-color: #434B5C;\n",
              "        box-shadow: 0px 1px 3px 1px rgba(0, 0, 0, 0.15);\n",
              "        filter: drop-shadow(0px 1px 2px rgba(0, 0, 0, 0.3));\n",
              "        fill: #FFFFFF;\n",
              "      }\n",
              "    </style>\n",
              "    <button class=\"colab-df-generate\" onclick=\"generateWithVariable('df')\"\n",
              "            title=\"Generate code using this dataframe.\"\n",
              "            style=\"display:none;\">\n",
              "\n",
              "  <svg xmlns=\"http://www.w3.org/2000/svg\" height=\"24px\"viewBox=\"0 0 24 24\"\n",
              "       width=\"24px\">\n",
              "    <path d=\"M7,19H8.4L18.45,9,17,7.55,7,17.6ZM5,21V16.75L18.45,3.32a2,2,0,0,1,2.83,0l1.4,1.43a1.91,1.91,0,0,1,.58,1.4,1.91,1.91,0,0,1-.58,1.4L9.25,21ZM18.45,9,17,7.55Zm-12,3A5.31,5.31,0,0,0,4.9,8.1,5.31,5.31,0,0,0,1,6.5,5.31,5.31,0,0,0,4.9,4.9,5.31,5.31,0,0,0,6.5,1,5.31,5.31,0,0,0,8.1,4.9,5.31,5.31,0,0,0,12,6.5,5.46,5.46,0,0,0,6.5,12Z\"/>\n",
              "  </svg>\n",
              "    </button>\n",
              "    <script>\n",
              "      (() => {\n",
              "      const buttonEl =\n",
              "        document.querySelector('#id_fbba1e96-570e-441d-a4a0-48d164c20231 button.colab-df-generate');\n",
              "      buttonEl.style.display =\n",
              "        google.colab.kernel.accessAllowed ? 'block' : 'none';\n",
              "\n",
              "      buttonEl.onclick = () => {\n",
              "        google.colab.notebook.generateWithVariable('df');\n",
              "      }\n",
              "      })();\n",
              "    </script>\n",
              "  </div>\n",
              "\n",
              "    </div>\n",
              "  </div>\n"
            ],
            "application/vnd.google.colaboratory.intrinsic+json": {
              "type": "dataframe",
              "variable_name": "df",
              "summary": "{\n  \"name\": \"df\",\n  \"rows\": 17,\n  \"fields\": [\n    {\n      \"column\": \"Text\",\n      \"properties\": {\n        \"dtype\": \"string\",\n        \"num_unique_values\": 17,\n        \"samples\": [\n          \"Netflix es la nueva casa de la WWE: \\u201cRaw\\u201d y m\\u00e1s eventos especiales se podr\\u00e1n ver en la plataforma\\n\\nEl famoso programa de lucha libre llegar\\u00e1 al streaming. WrestleMania, SummerSlam y Royal Rumble tambi\\u00e9n se sumar\\u00e1n el pr\\u00f3ximo a\\u00f1o.\",\n          \"Netflix ha anunciado un hist\\u00f3rico acuerdo con la empresa de entretenimiento deportivo WWE. A partir de 2025, la \\u201cN\\u201d roja ser\\u00e1 el hogar exclusivo del popular programa Monday Night Raw en Estados Unidos, Canad\\u00e1, Reino Unido y Latinoam\\u00e9rica.\",\n          \"El programa Monday Night Raw es uno de los m\\u00e1s ic\\u00f3nicos del entretenimiento deportivo, acumulando 1600 episodios desde su debut. Combinando lo mejor del contenido guionizado con el entretenimiento en vivo, el show semanal ha impulsado las carreras de m\\u00faltiples celebridades en el mundo de la lucha libre con el paso del tiempo, al punto de convertirse en un referente mundial.\"\n        ],\n        \"semantic_type\": \"\",\n        \"description\": \"\"\n      }\n    }\n  ]\n}"
            }
          },
          "metadata": {},
          "execution_count": 7
        }
      ]
    },
    {
      "cell_type": "markdown",
      "source": [
        "## Generando los embeddings\n",
        "Los embeddings son representaciones númericas de la información. Existen varios proveedores de Embeddings, pero uno de los más utilizados es el de OpenAI"
      ],
      "metadata": {
        "id": "OhoTFmnZvTow"
      }
    },
    {
      "cell_type": "code",
      "source": [
        "# Usaremos el modelo de Embeddings de OpenAI\n",
        "from langchain_openai import OpenAIEmbeddings\n",
        "embeddings_model = OpenAIEmbeddings()\n",
        "\n",
        "# Crearemos una función que luego aplicaremos a cada texto,\n",
        "def embeddings_fn(text):\n",
        "  \"\"\"\n",
        "  Crea los embeddings dado un texto\n",
        "  \"\"\"\n",
        "  return embeddings_model.embed_query(text)"
      ],
      "metadata": {
        "id": "6gwsR3MEslHY"
      },
      "execution_count": null,
      "outputs": []
    },
    {
      "cell_type": "markdown",
      "source": [
        "### Remplaza el codigo de OpenAIEmbeddings por SentenceTransformers"
      ],
      "metadata": {
        "id": "L1JrDZO_WZt-"
      }
    },
    {
      "source": [
        "!pip install -U sentence_transformers"
      ],
      "cell_type": "code",
      "metadata": {
        "id": "uqXmHxdoVWk_"
      },
      "execution_count": null,
      "outputs": []
    },
    {
      "source": [
        "from sentence_transformers import SentenceTransformer\n",
        "\n",
        "# Carga un modelo pre-entrenado. Hay varios modelos disponibles, elige uno que se adapte a tus necesidades\n",
        "# Puedes ver una lista de modelos aquí: https://www.sbert.net/docs/pretrained_models.html\n",
        "embeddings_model = SentenceTransformer('all-mpnet-base-v2') # This line was incorrectly indented"
      ],
      "cell_type": "code",
      "metadata": {
        "id": "FuAmg6QEVuCN"
      },
      "execution_count": null,
      "outputs": []
    },
    {
      "source": [
        "def embeddings_fn(text):\n",
        "      \"\"\"\n",
        "      Crea los embeddings dado un texto\n",
        "      \"\"\"\n",
        "      return embeddings_model.encode(text)"
      ],
      "cell_type": "code",
      "metadata": {
        "id": "8Bge10cXWI7J"
      },
      "execution_count": 12,
      "outputs": []
    },
    {
      "cell_type": "code",
      "source": [
        "# Calculamos los embeddings para cada texto en nuestro DataFrame\n",
        "df['Embeddings'] = df['Text'].apply(embeddings_fn)\n",
        "\n",
        "# Desplegamos el resultado, pueden ver que ahora tenemos una columna de Embeddings\n",
        "df.head(10)"
      ],
      "metadata": {
        "id": "y6k_i2rNuXaC",
        "colab": {
          "base_uri": "https://localhost:8080/",
          "height": 363
        },
        "outputId": "10e48a1f-d846-4462-d0a7-c87090879940"
      },
      "execution_count": 17,
      "outputs": [
        {
          "output_type": "execute_result",
          "data": {
            "text/plain": [
              "                                                Text  \\\n",
              "0  Netflix es la nueva casa de la WWE: “Raw” y má...   \n",
              "1  Netflix ha anunciado un histórico acuerdo con ...   \n",
              "2  Este acuerdo, que tiene planes de expandirse a...   \n",
              "3  El acuerdo, con una duración de diez años y un...   \n",
              "4  El impacto de la WWE\\nActualmente, Raw es el p...   \n",
              "5  El programa Monday Night Raw es uno de los más...   \n",
              "6  Andrónico Luksic renuncia a la presidencia de ...   \n",
              "7  El empresario Andrónico Luksic anunció su renu...   \n",
              "8  \"Tras un profundo proceso de reflexión he lleg...   \n",
              "9  En Quiñenco, Luksic recalcó haber podido \"prof...   \n",
              "\n",
              "                                          Embeddings  \n",
              "0  [-0.06687324, 0.011862769, -0.0015801489, -0.0...  \n",
              "1  [-0.025815295, 0.06348699, 0.016179634, -0.029...  \n",
              "2  [-0.032133304, 0.0071289465, 0.001991683, -0.0...  \n",
              "3  [-0.05403012, 0.015692342, 0.0041304426, 0.000...  \n",
              "4  [-0.06468614, 0.044428598, 0.031938437, -0.036...  \n",
              "5  [-0.03583354, 0.017398827, 0.025049526, -0.006...  \n",
              "6  [-0.00029733483, 0.041497916, 0.0049358127, 0....  \n",
              "7  [0.029257253, 0.042337183, -0.0029147905, 0.04...  \n",
              "8  [0.014808676, 0.027258983, -0.0040117437, -0.0...  \n",
              "9  [0.018315954, 0.023917312, -0.009063801, -0.02...  "
            ],
            "text/html": [
              "\n",
              "  <div id=\"df-f3ad587d-bccb-41a3-aaec-627a0b462182\" class=\"colab-df-container\">\n",
              "    <div>\n",
              "<style scoped>\n",
              "    .dataframe tbody tr th:only-of-type {\n",
              "        vertical-align: middle;\n",
              "    }\n",
              "\n",
              "    .dataframe tbody tr th {\n",
              "        vertical-align: top;\n",
              "    }\n",
              "\n",
              "    .dataframe thead th {\n",
              "        text-align: right;\n",
              "    }\n",
              "</style>\n",
              "<table border=\"1\" class=\"dataframe\">\n",
              "  <thead>\n",
              "    <tr style=\"text-align: right;\">\n",
              "      <th></th>\n",
              "      <th>Text</th>\n",
              "      <th>Embeddings</th>\n",
              "    </tr>\n",
              "  </thead>\n",
              "  <tbody>\n",
              "    <tr>\n",
              "      <th>0</th>\n",
              "      <td>Netflix es la nueva casa de la WWE: “Raw” y má...</td>\n",
              "      <td>[-0.06687324, 0.011862769, -0.0015801489, -0.0...</td>\n",
              "    </tr>\n",
              "    <tr>\n",
              "      <th>1</th>\n",
              "      <td>Netflix ha anunciado un histórico acuerdo con ...</td>\n",
              "      <td>[-0.025815295, 0.06348699, 0.016179634, -0.029...</td>\n",
              "    </tr>\n",
              "    <tr>\n",
              "      <th>2</th>\n",
              "      <td>Este acuerdo, que tiene planes de expandirse a...</td>\n",
              "      <td>[-0.032133304, 0.0071289465, 0.001991683, -0.0...</td>\n",
              "    </tr>\n",
              "    <tr>\n",
              "      <th>3</th>\n",
              "      <td>El acuerdo, con una duración de diez años y un...</td>\n",
              "      <td>[-0.05403012, 0.015692342, 0.0041304426, 0.000...</td>\n",
              "    </tr>\n",
              "    <tr>\n",
              "      <th>4</th>\n",
              "      <td>El impacto de la WWE\\nActualmente, Raw es el p...</td>\n",
              "      <td>[-0.06468614, 0.044428598, 0.031938437, -0.036...</td>\n",
              "    </tr>\n",
              "    <tr>\n",
              "      <th>5</th>\n",
              "      <td>El programa Monday Night Raw es uno de los más...</td>\n",
              "      <td>[-0.03583354, 0.017398827, 0.025049526, -0.006...</td>\n",
              "    </tr>\n",
              "    <tr>\n",
              "      <th>6</th>\n",
              "      <td>Andrónico Luksic renuncia a la presidencia de ...</td>\n",
              "      <td>[-0.00029733483, 0.041497916, 0.0049358127, 0....</td>\n",
              "    </tr>\n",
              "    <tr>\n",
              "      <th>7</th>\n",
              "      <td>El empresario Andrónico Luksic anunció su renu...</td>\n",
              "      <td>[0.029257253, 0.042337183, -0.0029147905, 0.04...</td>\n",
              "    </tr>\n",
              "    <tr>\n",
              "      <th>8</th>\n",
              "      <td>\"Tras un profundo proceso de reflexión he lleg...</td>\n",
              "      <td>[0.014808676, 0.027258983, -0.0040117437, -0.0...</td>\n",
              "    </tr>\n",
              "    <tr>\n",
              "      <th>9</th>\n",
              "      <td>En Quiñenco, Luksic recalcó haber podido \"prof...</td>\n",
              "      <td>[0.018315954, 0.023917312, -0.009063801, -0.02...</td>\n",
              "    </tr>\n",
              "  </tbody>\n",
              "</table>\n",
              "</div>\n",
              "    <div class=\"colab-df-buttons\">\n",
              "\n",
              "  <div class=\"colab-df-container\">\n",
              "    <button class=\"colab-df-convert\" onclick=\"convertToInteractive('df-f3ad587d-bccb-41a3-aaec-627a0b462182')\"\n",
              "            title=\"Convert this dataframe to an interactive table.\"\n",
              "            style=\"display:none;\">\n",
              "\n",
              "  <svg xmlns=\"http://www.w3.org/2000/svg\" height=\"24px\" viewBox=\"0 -960 960 960\">\n",
              "    <path d=\"M120-120v-720h720v720H120Zm60-500h600v-160H180v160Zm220 220h160v-160H400v160Zm0 220h160v-160H400v160ZM180-400h160v-160H180v160Zm440 0h160v-160H620v160ZM180-180h160v-160H180v160Zm440 0h160v-160H620v160Z\"/>\n",
              "  </svg>\n",
              "    </button>\n",
              "\n",
              "  <style>\n",
              "    .colab-df-container {\n",
              "      display:flex;\n",
              "      gap: 12px;\n",
              "    }\n",
              "\n",
              "    .colab-df-convert {\n",
              "      background-color: #E8F0FE;\n",
              "      border: none;\n",
              "      border-radius: 50%;\n",
              "      cursor: pointer;\n",
              "      display: none;\n",
              "      fill: #1967D2;\n",
              "      height: 32px;\n",
              "      padding: 0 0 0 0;\n",
              "      width: 32px;\n",
              "    }\n",
              "\n",
              "    .colab-df-convert:hover {\n",
              "      background-color: #E2EBFA;\n",
              "      box-shadow: 0px 1px 2px rgba(60, 64, 67, 0.3), 0px 1px 3px 1px rgba(60, 64, 67, 0.15);\n",
              "      fill: #174EA6;\n",
              "    }\n",
              "\n",
              "    .colab-df-buttons div {\n",
              "      margin-bottom: 4px;\n",
              "    }\n",
              "\n",
              "    [theme=dark] .colab-df-convert {\n",
              "      background-color: #3B4455;\n",
              "      fill: #D2E3FC;\n",
              "    }\n",
              "\n",
              "    [theme=dark] .colab-df-convert:hover {\n",
              "      background-color: #434B5C;\n",
              "      box-shadow: 0px 1px 3px 1px rgba(0, 0, 0, 0.15);\n",
              "      filter: drop-shadow(0px 1px 2px rgba(0, 0, 0, 0.3));\n",
              "      fill: #FFFFFF;\n",
              "    }\n",
              "  </style>\n",
              "\n",
              "    <script>\n",
              "      const buttonEl =\n",
              "        document.querySelector('#df-f3ad587d-bccb-41a3-aaec-627a0b462182 button.colab-df-convert');\n",
              "      buttonEl.style.display =\n",
              "        google.colab.kernel.accessAllowed ? 'block' : 'none';\n",
              "\n",
              "      async function convertToInteractive(key) {\n",
              "        const element = document.querySelector('#df-f3ad587d-bccb-41a3-aaec-627a0b462182');\n",
              "        const dataTable =\n",
              "          await google.colab.kernel.invokeFunction('convertToInteractive',\n",
              "                                                    [key], {});\n",
              "        if (!dataTable) return;\n",
              "\n",
              "        const docLinkHtml = 'Like what you see? Visit the ' +\n",
              "          '<a target=\"_blank\" href=https://colab.research.google.com/notebooks/data_table.ipynb>data table notebook</a>'\n",
              "          + ' to learn more about interactive tables.';\n",
              "        element.innerHTML = '';\n",
              "        dataTable['output_type'] = 'display_data';\n",
              "        await google.colab.output.renderOutput(dataTable, element);\n",
              "        const docLink = document.createElement('div');\n",
              "        docLink.innerHTML = docLinkHtml;\n",
              "        element.appendChild(docLink);\n",
              "      }\n",
              "    </script>\n",
              "  </div>\n",
              "\n",
              "\n",
              "<div id=\"df-00db5bf5-b4ba-40f4-8098-a9a66484fa03\">\n",
              "  <button class=\"colab-df-quickchart\" onclick=\"quickchart('df-00db5bf5-b4ba-40f4-8098-a9a66484fa03')\"\n",
              "            title=\"Suggest charts\"\n",
              "            style=\"display:none;\">\n",
              "\n",
              "<svg xmlns=\"http://www.w3.org/2000/svg\" height=\"24px\"viewBox=\"0 0 24 24\"\n",
              "     width=\"24px\">\n",
              "    <g>\n",
              "        <path d=\"M19 3H5c-1.1 0-2 .9-2 2v14c0 1.1.9 2 2 2h14c1.1 0 2-.9 2-2V5c0-1.1-.9-2-2-2zM9 17H7v-7h2v7zm4 0h-2V7h2v10zm4 0h-2v-4h2v4z\"/>\n",
              "    </g>\n",
              "</svg>\n",
              "  </button>\n",
              "\n",
              "<style>\n",
              "  .colab-df-quickchart {\n",
              "      --bg-color: #E8F0FE;\n",
              "      --fill-color: #1967D2;\n",
              "      --hover-bg-color: #E2EBFA;\n",
              "      --hover-fill-color: #174EA6;\n",
              "      --disabled-fill-color: #AAA;\n",
              "      --disabled-bg-color: #DDD;\n",
              "  }\n",
              "\n",
              "  [theme=dark] .colab-df-quickchart {\n",
              "      --bg-color: #3B4455;\n",
              "      --fill-color: #D2E3FC;\n",
              "      --hover-bg-color: #434B5C;\n",
              "      --hover-fill-color: #FFFFFF;\n",
              "      --disabled-bg-color: #3B4455;\n",
              "      --disabled-fill-color: #666;\n",
              "  }\n",
              "\n",
              "  .colab-df-quickchart {\n",
              "    background-color: var(--bg-color);\n",
              "    border: none;\n",
              "    border-radius: 50%;\n",
              "    cursor: pointer;\n",
              "    display: none;\n",
              "    fill: var(--fill-color);\n",
              "    height: 32px;\n",
              "    padding: 0;\n",
              "    width: 32px;\n",
              "  }\n",
              "\n",
              "  .colab-df-quickchart:hover {\n",
              "    background-color: var(--hover-bg-color);\n",
              "    box-shadow: 0 1px 2px rgba(60, 64, 67, 0.3), 0 1px 3px 1px rgba(60, 64, 67, 0.15);\n",
              "    fill: var(--button-hover-fill-color);\n",
              "  }\n",
              "\n",
              "  .colab-df-quickchart-complete:disabled,\n",
              "  .colab-df-quickchart-complete:disabled:hover {\n",
              "    background-color: var(--disabled-bg-color);\n",
              "    fill: var(--disabled-fill-color);\n",
              "    box-shadow: none;\n",
              "  }\n",
              "\n",
              "  .colab-df-spinner {\n",
              "    border: 2px solid var(--fill-color);\n",
              "    border-color: transparent;\n",
              "    border-bottom-color: var(--fill-color);\n",
              "    animation:\n",
              "      spin 1s steps(1) infinite;\n",
              "  }\n",
              "\n",
              "  @keyframes spin {\n",
              "    0% {\n",
              "      border-color: transparent;\n",
              "      border-bottom-color: var(--fill-color);\n",
              "      border-left-color: var(--fill-color);\n",
              "    }\n",
              "    20% {\n",
              "      border-color: transparent;\n",
              "      border-left-color: var(--fill-color);\n",
              "      border-top-color: var(--fill-color);\n",
              "    }\n",
              "    30% {\n",
              "      border-color: transparent;\n",
              "      border-left-color: var(--fill-color);\n",
              "      border-top-color: var(--fill-color);\n",
              "      border-right-color: var(--fill-color);\n",
              "    }\n",
              "    40% {\n",
              "      border-color: transparent;\n",
              "      border-right-color: var(--fill-color);\n",
              "      border-top-color: var(--fill-color);\n",
              "    }\n",
              "    60% {\n",
              "      border-color: transparent;\n",
              "      border-right-color: var(--fill-color);\n",
              "    }\n",
              "    80% {\n",
              "      border-color: transparent;\n",
              "      border-right-color: var(--fill-color);\n",
              "      border-bottom-color: var(--fill-color);\n",
              "    }\n",
              "    90% {\n",
              "      border-color: transparent;\n",
              "      border-bottom-color: var(--fill-color);\n",
              "    }\n",
              "  }\n",
              "</style>\n",
              "\n",
              "  <script>\n",
              "    async function quickchart(key) {\n",
              "      const quickchartButtonEl =\n",
              "        document.querySelector('#' + key + ' button');\n",
              "      quickchartButtonEl.disabled = true;  // To prevent multiple clicks.\n",
              "      quickchartButtonEl.classList.add('colab-df-spinner');\n",
              "      try {\n",
              "        const charts = await google.colab.kernel.invokeFunction(\n",
              "            'suggestCharts', [key], {});\n",
              "      } catch (error) {\n",
              "        console.error('Error during call to suggestCharts:', error);\n",
              "      }\n",
              "      quickchartButtonEl.classList.remove('colab-df-spinner');\n",
              "      quickchartButtonEl.classList.add('colab-df-quickchart-complete');\n",
              "    }\n",
              "    (() => {\n",
              "      let quickchartButtonEl =\n",
              "        document.querySelector('#df-00db5bf5-b4ba-40f4-8098-a9a66484fa03 button');\n",
              "      quickchartButtonEl.style.display =\n",
              "        google.colab.kernel.accessAllowed ? 'block' : 'none';\n",
              "    })();\n",
              "  </script>\n",
              "</div>\n",
              "\n",
              "    </div>\n",
              "  </div>\n"
            ],
            "application/vnd.google.colaboratory.intrinsic+json": {
              "type": "dataframe",
              "variable_name": "df",
              "summary": "{\n  \"name\": \"df\",\n  \"rows\": 17,\n  \"fields\": [\n    {\n      \"column\": \"Text\",\n      \"properties\": {\n        \"dtype\": \"string\",\n        \"num_unique_values\": 17,\n        \"samples\": [\n          \"Netflix es la nueva casa de la WWE: \\u201cRaw\\u201d y m\\u00e1s eventos especiales se podr\\u00e1n ver en la plataforma\\n\\nEl famoso programa de lucha libre llegar\\u00e1 al streaming. WrestleMania, SummerSlam y Royal Rumble tambi\\u00e9n se sumar\\u00e1n el pr\\u00f3ximo a\\u00f1o.\",\n          \"Netflix ha anunciado un hist\\u00f3rico acuerdo con la empresa de entretenimiento deportivo WWE. A partir de 2025, la \\u201cN\\u201d roja ser\\u00e1 el hogar exclusivo del popular programa Monday Night Raw en Estados Unidos, Canad\\u00e1, Reino Unido y Latinoam\\u00e9rica.\",\n          \"El programa Monday Night Raw es uno de los m\\u00e1s ic\\u00f3nicos del entretenimiento deportivo, acumulando 1600 episodios desde su debut. Combinando lo mejor del contenido guionizado con el entretenimiento en vivo, el show semanal ha impulsado las carreras de m\\u00faltiples celebridades en el mundo de la lucha libre con el paso del tiempo, al punto de convertirse en un referente mundial.\"\n        ],\n        \"semantic_type\": \"\",\n        \"description\": \"\"\n      }\n    },\n    {\n      \"column\": \"Embeddings\",\n      \"properties\": {\n        \"dtype\": \"object\",\n        \"semantic_type\": \"\",\n        \"description\": \"\"\n      }\n    }\n  ]\n}"
            }
          },
          "metadata": {},
          "execution_count": 17
        }
      ]
    },
    {
      "cell_type": "markdown",
      "source": [
        "¿Cuántas dimensiones tiene cada vector?"
      ],
      "metadata": {
        "id": "_3K7PC5TutbK"
      }
    },
    {
      "cell_type": "code",
      "source": [
        "len(df['Embeddings'][0])"
      ],
      "metadata": {
        "id": "zvftnQ3kuduz",
        "colab": {
          "base_uri": "https://localhost:8080/"
        },
        "outputId": "fa96dea7-a2ce-4047-e184-4974011c9fd0"
      },
      "execution_count": 18,
      "outputs": [
        {
          "output_type": "execute_result",
          "data": {
            "text/plain": [
              "768"
            ]
          },
          "metadata": {},
          "execution_count": 18
        }
      ]
    },
    {
      "cell_type": "markdown",
      "source": [
        "## Buscando el chunk más relevante"
      ],
      "metadata": {
        "id": "XT5sA5-lvGSJ"
      }
    },
    {
      "cell_type": "code",
      "source": [
        "def find_best_passage(query, dataframe):\n",
        "  \"\"\"\n",
        "  Calcula las distancias entre la consulta y cada documento en el marco de datos utilizando el producto punto.\n",
        "  \"\"\"\n",
        "  query_embedding = embeddings_model.embed_query(query)\n",
        "\n",
        "  # Revisa como opera la función dot aquí: https://numpy.org/doc/stable/reference/generated/numpy.dot.html\n",
        "  dot_products = np.dot(np.stack(dataframe['Embeddings']), query_embedding)\n",
        "\n",
        "  # Obtiene la ID del que más se parece\n",
        "  idx = np.argmax(dot_products)\n",
        "\n",
        "  return dataframe.iloc[idx]['Text'] # Devuelve el texto del índice con el valor máximo."
      ],
      "metadata": {
        "id": "HAh7NtaivFua"
      },
      "execution_count": 19,
      "outputs": []
    },
    {
      "cell_type": "markdown",
      "source": [
        "Notese que nuestro ejercicio entrega sólo un resultado. Sin embargo, veremos ejemplos donde se entregan más resultados de vuelta, por ejemplo los mejores 4."
      ],
      "metadata": {
        "id": "bVIidAsPwSm8"
      }
    },
    {
      "cell_type": "code",
      "source": [
        "query = \"¿ donde vive el pibe valderrama ?\"\n",
        "best_passage = find_best_passage(query, df)\n",
        "best_passage"
      ],
      "metadata": {
        "id": "2uaLLEt4v3XO",
        "colab": {
          "base_uri": "https://localhost:8080/",
          "height": 321
        },
        "outputId": "09414ee4-e4d1-4c2a-c5f8-e558eacc13d3"
      },
      "execution_count": 20,
      "outputs": [
        {
          "output_type": "error",
          "ename": "AttributeError",
          "evalue": "'SentenceTransformer' object has no attribute 'embed_query'",
          "traceback": [
            "\u001b[0;31m---------------------------------------------------------------------------\u001b[0m",
            "\u001b[0;31mAttributeError\u001b[0m                            Traceback (most recent call last)",
            "\u001b[0;32m<ipython-input-20-ca8ab6c12da9>\u001b[0m in \u001b[0;36m<cell line: 2>\u001b[0;34m()\u001b[0m\n\u001b[1;32m      1\u001b[0m \u001b[0mquery\u001b[0m \u001b[0;34m=\u001b[0m \u001b[0;34m\"¿ donde vive el pibe valderrama ?\"\u001b[0m\u001b[0;34m\u001b[0m\u001b[0;34m\u001b[0m\u001b[0m\n\u001b[0;32m----> 2\u001b[0;31m \u001b[0mbest_passage\u001b[0m \u001b[0;34m=\u001b[0m \u001b[0mfind_best_passage\u001b[0m\u001b[0;34m(\u001b[0m\u001b[0mquery\u001b[0m\u001b[0;34m,\u001b[0m \u001b[0mdf\u001b[0m\u001b[0;34m)\u001b[0m\u001b[0;34m\u001b[0m\u001b[0;34m\u001b[0m\u001b[0m\n\u001b[0m\u001b[1;32m      3\u001b[0m \u001b[0mbest_passage\u001b[0m\u001b[0;34m\u001b[0m\u001b[0;34m\u001b[0m\u001b[0m\n",
            "\u001b[0;32m<ipython-input-19-dcdfd08a9160>\u001b[0m in \u001b[0;36mfind_best_passage\u001b[0;34m(query, dataframe)\u001b[0m\n\u001b[1;32m      3\u001b[0m   \u001b[0mCalcula\u001b[0m \u001b[0mlas\u001b[0m \u001b[0mdistancias\u001b[0m \u001b[0mentre\u001b[0m \u001b[0mla\u001b[0m \u001b[0mconsulta\u001b[0m \u001b[0my\u001b[0m \u001b[0mcada\u001b[0m \u001b[0mdocumento\u001b[0m \u001b[0men\u001b[0m \u001b[0mel\u001b[0m \u001b[0mmarco\u001b[0m \u001b[0mde\u001b[0m \u001b[0mdatos\u001b[0m \u001b[0mutilizando\u001b[0m \u001b[0mel\u001b[0m \u001b[0mproducto\u001b[0m \u001b[0mpunto\u001b[0m\u001b[0;34m.\u001b[0m\u001b[0;34m\u001b[0m\u001b[0;34m\u001b[0m\u001b[0m\n\u001b[1;32m      4\u001b[0m   \"\"\"\n\u001b[0;32m----> 5\u001b[0;31m   \u001b[0mquery_embedding\u001b[0m \u001b[0;34m=\u001b[0m \u001b[0membeddings_model\u001b[0m\u001b[0;34m.\u001b[0m\u001b[0membed_query\u001b[0m\u001b[0;34m(\u001b[0m\u001b[0mquery\u001b[0m\u001b[0;34m)\u001b[0m\u001b[0;34m\u001b[0m\u001b[0;34m\u001b[0m\u001b[0m\n\u001b[0m\u001b[1;32m      6\u001b[0m \u001b[0;34m\u001b[0m\u001b[0m\n\u001b[1;32m      7\u001b[0m   \u001b[0;31m# Revisa como opera la función dot aquí: https://numpy.org/doc/stable/reference/generated/numpy.dot.html\u001b[0m\u001b[0;34m\u001b[0m\u001b[0;34m\u001b[0m\u001b[0m\n",
            "\u001b[0;32m/usr/local/lib/python3.10/dist-packages/torch/nn/modules/module.py\u001b[0m in \u001b[0;36m__getattr__\u001b[0;34m(self, name)\u001b[0m\n\u001b[1;32m   1929\u001b[0m             \u001b[0;32mif\u001b[0m \u001b[0mname\u001b[0m \u001b[0;32min\u001b[0m \u001b[0mmodules\u001b[0m\u001b[0;34m:\u001b[0m\u001b[0;34m\u001b[0m\u001b[0;34m\u001b[0m\u001b[0m\n\u001b[1;32m   1930\u001b[0m                 \u001b[0;32mreturn\u001b[0m \u001b[0mmodules\u001b[0m\u001b[0;34m[\u001b[0m\u001b[0mname\u001b[0m\u001b[0;34m]\u001b[0m\u001b[0;34m\u001b[0m\u001b[0;34m\u001b[0m\u001b[0m\n\u001b[0;32m-> 1931\u001b[0;31m         raise AttributeError(\n\u001b[0m\u001b[1;32m   1932\u001b[0m             \u001b[0;34mf\"'{type(self).__name__}' object has no attribute '{name}'\"\u001b[0m\u001b[0;34m\u001b[0m\u001b[0;34m\u001b[0m\u001b[0m\n\u001b[1;32m   1933\u001b[0m         )\n",
            "\u001b[0;31mAttributeError\u001b[0m: 'SentenceTransformer' object has no attribute 'embed_query'"
          ]
        }
      ]
    },
    {
      "cell_type": "markdown",
      "source": [
        "## Generando la respuesta con un LLM"
      ],
      "metadata": {
        "id": "xT5uyr6hwKNw"
      }
    },
    {
      "cell_type": "code",
      "source": [
        "from langchain_core.prompts import ChatPromptTemplate\n",
        "from langchain_core.output_parsers import StrOutputParser\n",
        "\n",
        "output_parser = StrOutputParser()\n",
        "\n",
        "\n",
        "prompt = ChatPromptTemplate.from_messages([\n",
        "    (\"system\", \"\"\"\n",
        "      Eres un bot servicial e informativo que responde preguntas utilizando el texto referencia incluido a continuación.\n",
        "      Asegúrate de responder en una oración completa, siendo exhaustivo y proporcionando toda la información de fondo relevante.\n",
        "      Sin embargo, estás hablando con una audiencia no técnica, por lo que debes desglosar los conceptos complicados y mantener un tono amigable y conversacional.\n",
        "      Por favor, responde en el idioma de la pregunta.\n",
        "\n",
        "      PREGUNTA: '{query}'\n",
        "      TEXTO DE REFERENCIA: '{relevant_passage}'\n",
        "\n",
        "      RESPUESTA:\n",
        "    \"\"\"\n",
        "    ),\n",
        "])\n",
        "\n",
        "chain = prompt | llm | output_parser"
      ],
      "metadata": {
        "id": "wvsh44uTwrSF"
      },
      "execution_count": null,
      "outputs": []
    },
    {
      "cell_type": "code",
      "source": [
        "chain.invoke({\n",
        "    \"query\": query,\n",
        "    \"relevant_passage\": best_passage,\n",
        "    })"
      ],
      "metadata": {
        "id": "NiFn1RbKx-3d",
        "colab": {
          "base_uri": "https://localhost:8080/",
          "height": 70
        },
        "outputId": "1fa23443-b719-4600-8968-c92b7c927486"
      },
      "execution_count": null,
      "outputs": [
        {
          "output_type": "execute_result",
          "data": {
            "text/plain": [
              "'No tengo información específica sobre dónde vive el pibe Valderrama, pero lo que sí sé es que es un destacado futbolista colombiano reconocido por su talento en el campo de juego. En su carrera, ha sido muy querido y ha recibido muchos comentarios positivos sobre su habilidad, lo que ha llevado a que la gente espere verlo jugar más. Si estás interesado en saber más sobre él o su carrera, ¡estaré encantado de ayudarte!'"
            ],
            "application/vnd.google.colaboratory.intrinsic+json": {
              "type": "string"
            }
          },
          "metadata": {},
          "execution_count": 44
        }
      ]
    },
    {
      "cell_type": "markdown",
      "source": [],
      "metadata": {
        "id": "VqMWncm_hE1p"
      }
    },
    {
      "cell_type": "markdown",
      "source": [
        "# Documentación\n",
        "* [Quickstart - Q&A with RAG](https://python.langchain.com/docs/use_cases/question_answering/quickstart/)\n",
        "\n",
        "Articulo recomendado\n",
        "* [Cómo personalizar ChatGPT y otros LLMs | RAG, Fine-tuning, y más](https://www.evoacademy.cl/como-personalizar-chatgpt-y-otros-llms-rag-fine-tuning-y-mas/)\n",
        "\n",
        "Podcast recomendado\n",
        "* [Qué es el RAG](https://www.youtube.com/watch?v=hrATOtHZqEE)."
      ],
      "metadata": {
        "id": "tBZ9_CqryH7J"
      }
    },
    {
      "cell_type": "markdown",
      "source": [
        "\n",
        "---\n",
        "# Síguenos:\n",
        "- Spotify: [Escucha nuestro podcast sobre IA](https://open.spotify.com/show/7kyKbKwrqgxr4trONfkqmH?si=c4e17a6fc42f4a54)\n",
        "- LinkedIn: https://www.linkedin.com/company/evoacmd/\n",
        "- TikTok: https://www.tiktok.com/@evoacdm\n",
        "- Instagram: https://www.instagram.com/evoacdm/\n",
        "- YouTube: https://www.youtube.com/@evoacdm\n",
        "- Sitio web: https://evoacademy.cl"
      ],
      "metadata": {
        "id": "S5BVSBpEyFIf"
      }
    }
  ]
}